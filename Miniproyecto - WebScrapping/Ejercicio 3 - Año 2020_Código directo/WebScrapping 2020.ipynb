{
 "cells": [
  {
   "cell_type": "markdown",
   "metadata": {},
   "source": [
    "## En 1 sola casilla de código!"
   ]
  },
  {
   "cell_type": "code",
   "execution_count": 1,
   "metadata": {},
   "outputs": [
    {
     "name": "stdout",
     "output_type": "stream",
     "text": [
      "Requirement already satisfied: XlsxWriter in c:\\users\\juanv\\desktop\\cursos realizados\\curso data analytics\\carpeta\\mi_entorno\\lib\\site-packages (3.2.0)\n"
     ]
    }
   ],
   "source": [
    "# Importamos la librería request para manejar las peticiones de acceso a la web y descarga de contenido.\n",
    "import requests\n",
    "\n",
    "# Especificamos la web\n",
    "enlace = \"https://en.wikipedia.org/wiki/Forbes%27_list_of_the_world%27s_highest-paid_athletes\"\n",
    "\n",
    "# Convertimos la web en texto\n",
    "texto_web = requests.get(enlace).text\n",
    "\n",
    "# Para darle un formato, BeautifulSoup tiene a su disposición un módulo para \"formatear\" o dar forma al contenido \n",
    "# usando el parser que presentamos anteriormente.\n",
    "from bs4 import BeautifulSoup\n",
    "sopa = BeautifulSoup(texto_web, 'lxml')\n",
    "\n",
    "# La información que queremos se encuentra en las tablas, vamos a recuperarlas\n",
    "tablas = sopa.find_all('table')\n",
    "\n",
    "# Al existir varias tablas, tenemos que localizarlas. La clase de CSS de las tablas es \"wikitable sortable\"\n",
    "tablas_listados_todos_anios = sopa.find_all('table', class_= 'wikitable sortable')\n",
    "\n",
    "# Vamos a seleccionar la cuarta tabla, la de 2020\n",
    "tabla_2020 = tablas_listados_todos_anios[3]\n",
    "\n",
    "# Para localizar a los deportistas, vamos a transformar la tabla a una estructura dataframe de pantas\n",
    "\n",
    "import pandas as pd\n",
    "dataframe_informacion_2020 = pd.read_html(str(tabla_2020))[0]\n",
    "\n",
    "# Podemos guardar esta información en un archivo Excel:\n",
    "!pip install XlsxWriter\n",
    "# Guardamos la información en el archivo:\n",
    "archivo_informacion_20 = pd.ExcelWriter('deportistas_mejor_pagados_2020.xlsx', engine='xlsxwriter')\n",
    "dataframe_informacion_2020.to_excel(archivo_informacion_20, sheet_name='List')\n",
    "archivo_informacion_20.close() #el .save() dejó de funcionar, hay que usar .close()"
   ]
  }
 ],
 "metadata": {
  "kernelspec": {
   "display_name": "mi_entorno",
   "language": "python",
   "name": "python3"
  },
  "language_info": {
   "codemirror_mode": {
    "name": "ipython",
    "version": 3
   },
   "file_extension": ".py",
   "mimetype": "text/x-python",
   "name": "python",
   "nbconvert_exporter": "python",
   "pygments_lexer": "ipython3",
   "version": "3.10.11"
  }
 },
 "nbformat": 4,
 "nbformat_minor": 2
}
