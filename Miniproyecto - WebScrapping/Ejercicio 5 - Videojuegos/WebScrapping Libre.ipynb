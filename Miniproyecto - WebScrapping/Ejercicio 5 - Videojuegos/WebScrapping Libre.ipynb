{
 "cells": [
  {
   "cell_type": "markdown",
   "metadata": {},
   "source": [
    "El WebScrapping puede usarse, por ejemplo, en el llamado \"*TheoryCraft*\" de los videojuegos. Esto es, analizar los de datos de determinados aspectos de un videojuego para optimizar un aspecto determinado de la experiencia. Se usa principalmente para estudiar a los personajes y **evaluar su nivel de poder** para saber cuáles son los que tienen un mayor **retorno** (más facilidad para completar contenido) a menor **inversión**.\n",
    "\n",
    "En este caso, vamos a extraer los datos de los stats principales de los 83 personajes presentes (a 5 de junio de 2024) en el videojuego Genshin Impact para aprender cómo convertir una tabla de su página \"wiki\" a una DataFrame o un Excel. "
   ]
  },
  {
   "cell_type": "markdown",
   "metadata": {},
   "source": [
    "## Paso a Paso"
   ]
  },
  {
   "cell_type": "code",
   "execution_count": null,
   "metadata": {},
   "outputs": [],
   "source": [
    "# Importamos la librería request para manejar las peticiones de acceso a la web y descarga de contenido.\n",
    "import requests\n",
    "# Especificamos la web\n",
    "enlace = \"https://genshin-impact.fandom.com/wiki/Character/Comparison\"\n",
    "\n",
    "# Convertimos la web en texto\n",
    "texto_web = requests.get(enlace).text\n",
    "print(texto_web)"
   ]
  },
  {
   "cell_type": "code",
   "execution_count": null,
   "metadata": {},
   "outputs": [],
   "source": [
    "# Para darle un formato, BeautifulSoup tiene a su disposición un módulo para \"formatear\" o dar forma al contenido \n",
    "# usando el parser que presentamos anteriormente.\n",
    "\n",
    "from bs4 import BeautifulSoup\n",
    "sopa = BeautifulSoup(texto_web, 'lxml')\n",
    "print(sopa)"
   ]
  },
  {
   "cell_type": "code",
   "execution_count": null,
   "metadata": {},
   "outputs": [],
   "source": [
    "# La información que queremos se encuentra en las tablas, vamos a recuperarlas\n",
    "tablas = sopa.find_all('table')\n",
    "print(tablas)"
   ]
  },
  {
   "cell_type": "code",
   "execution_count": null,
   "metadata": {},
   "outputs": [],
   "source": [
    "# Al existir varias tablas, tenemos que localizarlas. La clase de CSS de las tablas es \"article-table sortable\"\n",
    "\n",
    "tablas_datos_personajes = sopa.find_all('table', class_= 'article-table sortable')\n",
    "print(tablas_datos_personajes)"
   ]
  },
  {
   "cell_type": "code",
   "execution_count": null,
   "metadata": {},
   "outputs": [],
   "source": [
    "# Vemos que tenemos todas las tablas, el tipo de variable es ResultSet\n",
    "type(tablas_datos_personajes)"
   ]
  },
  {
   "cell_type": "code",
   "execution_count": null,
   "metadata": {},
   "outputs": [],
   "source": [
    "# Vamos a seleccionar la primera tabla, la de los stats de los personajes\n",
    "stats_personajes = tablas_datos_personajes[0]\n",
    "print(stats_personajes)"
   ]
  },
  {
   "cell_type": "code",
   "execution_count": null,
   "metadata": {},
   "outputs": [],
   "source": [
    "# Para localizar a los personajes, vamos a transformar la tabla a una estructura dataframe de pandas\n",
    "\n",
    "import pandas as pd\n",
    "dataframe_informacion_personajes = pd.read_html(str(stats_personajes))[0]\n",
    "print(dataframe_informacion_personajes)"
   ]
  },
  {
   "cell_type": "code",
   "execution_count": null,
   "metadata": {},
   "outputs": [],
   "source": [
    "# Podemos guardar esta información en un archivo Excel:\n",
    "!pip install XlsxWriter\n",
    "# Guardamos la información en el archivo:\n",
    "archivo_stats_personajes = pd.ExcelWriter('Characters Base Stats comparison paso a paso.xlsx', engine='xlsxwriter')\n",
    "dataframe_informacion_personajes.to_excel(archivo_stats_personajes, sheet_name='List')\n",
    "archivo_stats_personajes.close() #el .save() dejó de funcionar, hay que usar .close()"
   ]
  },
  {
   "cell_type": "markdown",
   "metadata": {},
   "source": [
    "## A pelo"
   ]
  },
  {
   "cell_type": "code",
   "execution_count": null,
   "metadata": {},
   "outputs": [],
   "source": [
    "# Importamos la librería request para manejar las peticiones de acceso a la web y descarga de contenido.\n",
    "import requests\n",
    "\n",
    "# Especificamos la web\n",
    "enlace = \"https://genshin-impact.fandom.com/wiki/Character/Comparison\"\n",
    "\n",
    "# Convertimos la web en texto\n",
    "texto_web = requests.get(enlace).text\n",
    "\n",
    "# Para darle un formato, BeautifulSoup tiene a su disposición un módulo para \"formatear\" o dar forma al contenido \n",
    "# usando el parser que presentamos anteriormente.\n",
    "from bs4 import BeautifulSoup\n",
    "sopa = BeautifulSoup(texto_web, 'lxml')\n",
    "\n",
    "# La información que queremos se encuentra en las tablas, vamos a recuperarlas\n",
    "tablas = sopa.find_all('table')\n",
    "\n",
    "# Al existir varias tablas, tenemos que localizarlas. La clase de CSS de las tablas es \"article-table sortable\"\n",
    "tablas_datos_personajes = sopa.find_all('table', class_= 'article-table sortable')\n",
    "\n",
    "# Vamos a seleccionar la primera tabla, la de los stats de los personajes\n",
    "stats_personajes = tablas_datos_personajes[0]\n",
    "\n",
    "# Para localizar a los personajes, vamos a transformar la tabla a una estructura dataframe de pandas\n",
    "import pandas as pd\n",
    "dataframe_informacion_personajes = pd.read_html(str(stats_personajes))[0]\n",
    "\n",
    "# Podemos guardar esta información en un archivo Excel:\n",
    "!pip install XlsxWriter\n",
    "# Guardamos la información en el archivo:\n",
    "archivo_stats_personajes = pd.ExcelWriter('Characters Base Stats comparison directo.xlsx', engine='xlsxwriter')\n",
    "dataframe_informacion_personajes.to_excel(archivo_stats_personajes, sheet_name='List')\n",
    "archivo_stats_personajes.close() #el .save() dejó de funcionar, hay que usar .close()"
   ]
  },
  {
   "cell_type": "markdown",
   "metadata": {},
   "source": [
    "El resultado de ejecutar todo el Notebook es que se generarán 2 Excels iguales pero con distinto nombre. "
   ]
  },
  {
   "cell_type": "markdown",
   "metadata": {},
   "source": [
    "## Cabe destacar que es posible importar varias tablas y unificarlas en un mismo Excel en varias hojas o sheets, en caso de querer ampliar la información obtenida.\n",
    "\n",
    "Lo que debería hacer un TheoryCrafter a partir de aquí sería aplicar un análisis estadístico de sus variables para averiguar los datos de interés y poder llegar a una conclusión y poder comunicarle un veredicto a su comunidad con consejos para el resto de jugadores."
   ]
  }
 ],
 "metadata": {
  "kernelspec": {
   "display_name": "mi_entorno",
   "language": "python",
   "name": "python3"
  },
  "language_info": {
   "codemirror_mode": {
    "name": "ipython",
    "version": 3
   },
   "file_extension": ".py",
   "mimetype": "text/x-python",
   "name": "python",
   "nbconvert_exporter": "python",
   "pygments_lexer": "ipython3",
   "version": "3.10.11"
  }
 },
 "nbformat": 4,
 "nbformat_minor": 2
}
